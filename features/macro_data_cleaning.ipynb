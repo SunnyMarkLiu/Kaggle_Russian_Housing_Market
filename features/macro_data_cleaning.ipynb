{
 "cells": [
  {
   "cell_type": "code",
   "execution_count": 18,
   "metadata": {
    "collapsed": true
   },
   "outputs": [],
   "source": [
    "import os\n",
    "import sys\n",
    "module_path = os.path.abspath(os.path.join('..'))\n",
    "sys.path.append(module_path)\n",
    "\n",
    "import numpy as np\n",
    "import pandas as pd\n",
    "\n",
    "import matplotlib\n",
    "import matplotlib.pyplot as plt\n",
    "import seaborn as sns\n",
    "sns.set_style('whitegrid')\n",
    "color = sns.color_palette()\n",
    "%matplotlib inline\n",
    "matplotlib.style.use('ggplot')\n",
    "\n",
    "from collections import Counter\n",
    "from IPython import display\n",
    "\n",
    "# remove warnings\n",
    "import warnings\n",
    "warnings.filterwarnings('ignore')\n",
    "\n",
    "# my own module\n",
    "from conf.configure import Configure\n",
    "import kmeans_impute_missing_data as impute\n",
    "import impute_missing_data\n",
    "import data_utils"
   ]
  },
  {
   "cell_type": "code",
   "execution_count": 19,
   "metadata": {},
   "outputs": [],
   "source": [
    "_, _, macros = data_utils.load_data()"
   ]
  },
  {
   "cell_type": "code",
   "execution_count": 20,
   "metadata": {},
   "outputs": [
    {
     "data": {
      "text/html": [
       "<div>\n",
       "<table border=\"1\" class=\"dataframe\">\n",
       "  <thead>\n",
       "    <tr style=\"text-align: right;\">\n",
       "      <th></th>\n",
       "      <th>timestamp</th>\n",
       "      <th>oil_urals</th>\n",
       "      <th>gdp_quart</th>\n",
       "      <th>gdp_quart_growth</th>\n",
       "      <th>cpi</th>\n",
       "      <th>ppi</th>\n",
       "      <th>gdp_deflator</th>\n",
       "      <th>balance_trade</th>\n",
       "      <th>balance_trade_growth</th>\n",
       "      <th>usdrub</th>\n",
       "      <th>...</th>\n",
       "      <th>provision_retail_space_modern_sqm</th>\n",
       "      <th>turnover_catering_per_cap</th>\n",
       "      <th>theaters_viewers_per_1000_cap</th>\n",
       "      <th>seats_theather_rfmin_per_100000_cap</th>\n",
       "      <th>museum_visitis_per_100_cap</th>\n",
       "      <th>bandwidth_sports</th>\n",
       "      <th>population_reg_sports_share</th>\n",
       "      <th>students_reg_sports_share</th>\n",
       "      <th>apartment_build</th>\n",
       "      <th>apartment_fund_sqm</th>\n",
       "    </tr>\n",
       "  </thead>\n",
       "  <tbody>\n",
       "    <tr>\n",
       "      <th>0</th>\n",
       "      <td>2010-01-01</td>\n",
       "      <td>76.1</td>\n",
       "      <td>12449.019512</td>\n",
       "      <td>3.196788</td>\n",
       "      <td>322.143454</td>\n",
       "      <td>354.068975</td>\n",
       "      <td>110.122308</td>\n",
       "      <td>16.655067</td>\n",
       "      <td>15.062976</td>\n",
       "      <td>29.855581</td>\n",
       "      <td>...</td>\n",
       "      <td>690.0</td>\n",
       "      <td>6221.0</td>\n",
       "      <td>527.0</td>\n",
       "      <td>0.41</td>\n",
       "      <td>993.0</td>\n",
       "      <td>349902.577766</td>\n",
       "      <td>25.06859</td>\n",
       "      <td>63.03</td>\n",
       "      <td>22825.0</td>\n",
       "      <td>230615.059255</td>\n",
       "    </tr>\n",
       "    <tr>\n",
       "      <th>1</th>\n",
       "      <td>2010-01-02</td>\n",
       "      <td>76.1</td>\n",
       "      <td>12449.019512</td>\n",
       "      <td>3.196788</td>\n",
       "      <td>322.143454</td>\n",
       "      <td>354.068975</td>\n",
       "      <td>110.122308</td>\n",
       "      <td>16.655067</td>\n",
       "      <td>15.062976</td>\n",
       "      <td>29.855581</td>\n",
       "      <td>...</td>\n",
       "      <td>690.0</td>\n",
       "      <td>6221.0</td>\n",
       "      <td>527.0</td>\n",
       "      <td>0.41</td>\n",
       "      <td>993.0</td>\n",
       "      <td>349902.577766</td>\n",
       "      <td>25.06859</td>\n",
       "      <td>63.03</td>\n",
       "      <td>22825.0</td>\n",
       "      <td>230615.059255</td>\n",
       "    </tr>\n",
       "    <tr>\n",
       "      <th>2</th>\n",
       "      <td>2010-01-03</td>\n",
       "      <td>76.1</td>\n",
       "      <td>12449.019512</td>\n",
       "      <td>3.196788</td>\n",
       "      <td>322.143454</td>\n",
       "      <td>354.068975</td>\n",
       "      <td>110.122308</td>\n",
       "      <td>16.655067</td>\n",
       "      <td>15.062976</td>\n",
       "      <td>29.855581</td>\n",
       "      <td>...</td>\n",
       "      <td>690.0</td>\n",
       "      <td>6221.0</td>\n",
       "      <td>527.0</td>\n",
       "      <td>0.41</td>\n",
       "      <td>993.0</td>\n",
       "      <td>349902.577766</td>\n",
       "      <td>25.06859</td>\n",
       "      <td>63.03</td>\n",
       "      <td>22825.0</td>\n",
       "      <td>230615.059255</td>\n",
       "    </tr>\n",
       "    <tr>\n",
       "      <th>3</th>\n",
       "      <td>2010-01-04</td>\n",
       "      <td>76.1</td>\n",
       "      <td>12449.019512</td>\n",
       "      <td>3.196788</td>\n",
       "      <td>322.143454</td>\n",
       "      <td>354.068975</td>\n",
       "      <td>110.122308</td>\n",
       "      <td>16.655067</td>\n",
       "      <td>15.062976</td>\n",
       "      <td>29.905000</td>\n",
       "      <td>...</td>\n",
       "      <td>690.0</td>\n",
       "      <td>6221.0</td>\n",
       "      <td>527.0</td>\n",
       "      <td>0.41</td>\n",
       "      <td>993.0</td>\n",
       "      <td>349902.577766</td>\n",
       "      <td>25.06859</td>\n",
       "      <td>63.03</td>\n",
       "      <td>22825.0</td>\n",
       "      <td>230615.059255</td>\n",
       "    </tr>\n",
       "    <tr>\n",
       "      <th>4</th>\n",
       "      <td>2010-01-05</td>\n",
       "      <td>76.1</td>\n",
       "      <td>12449.019512</td>\n",
       "      <td>3.196788</td>\n",
       "      <td>322.143454</td>\n",
       "      <td>354.068975</td>\n",
       "      <td>110.122308</td>\n",
       "      <td>16.655067</td>\n",
       "      <td>15.062976</td>\n",
       "      <td>29.836000</td>\n",
       "      <td>...</td>\n",
       "      <td>690.0</td>\n",
       "      <td>6221.0</td>\n",
       "      <td>527.0</td>\n",
       "      <td>0.41</td>\n",
       "      <td>993.0</td>\n",
       "      <td>349902.577766</td>\n",
       "      <td>25.06859</td>\n",
       "      <td>63.03</td>\n",
       "      <td>22825.0</td>\n",
       "      <td>230615.059255</td>\n",
       "    </tr>\n",
       "  </tbody>\n",
       "</table>\n",
       "<p>5 rows × 100 columns</p>\n",
       "</div>"
      ],
      "text/plain": [
       "    timestamp  oil_urals     gdp_quart  gdp_quart_growth         cpi  \\\n",
       "0  2010-01-01       76.1  12449.019512          3.196788  322.143454   \n",
       "1  2010-01-02       76.1  12449.019512          3.196788  322.143454   \n",
       "2  2010-01-03       76.1  12449.019512          3.196788  322.143454   \n",
       "3  2010-01-04       76.1  12449.019512          3.196788  322.143454   \n",
       "4  2010-01-05       76.1  12449.019512          3.196788  322.143454   \n",
       "\n",
       "          ppi  gdp_deflator  balance_trade  balance_trade_growth     usdrub  \\\n",
       "0  354.068975    110.122308      16.655067             15.062976  29.855581   \n",
       "1  354.068975    110.122308      16.655067             15.062976  29.855581   \n",
       "2  354.068975    110.122308      16.655067             15.062976  29.855581   \n",
       "3  354.068975    110.122308      16.655067             15.062976  29.905000   \n",
       "4  354.068975    110.122308      16.655067             15.062976  29.836000   \n",
       "\n",
       "          ...          provision_retail_space_modern_sqm  \\\n",
       "0         ...                                      690.0   \n",
       "1         ...                                      690.0   \n",
       "2         ...                                      690.0   \n",
       "3         ...                                      690.0   \n",
       "4         ...                                      690.0   \n",
       "\n",
       "   turnover_catering_per_cap  theaters_viewers_per_1000_cap  \\\n",
       "0                     6221.0                          527.0   \n",
       "1                     6221.0                          527.0   \n",
       "2                     6221.0                          527.0   \n",
       "3                     6221.0                          527.0   \n",
       "4                     6221.0                          527.0   \n",
       "\n",
       "   seats_theather_rfmin_per_100000_cap  museum_visitis_per_100_cap  \\\n",
       "0                                 0.41                       993.0   \n",
       "1                                 0.41                       993.0   \n",
       "2                                 0.41                       993.0   \n",
       "3                                 0.41                       993.0   \n",
       "4                                 0.41                       993.0   \n",
       "\n",
       "   bandwidth_sports  population_reg_sports_share  students_reg_sports_share  \\\n",
       "0     349902.577766                     25.06859                      63.03   \n",
       "1     349902.577766                     25.06859                      63.03   \n",
       "2     349902.577766                     25.06859                      63.03   \n",
       "3     349902.577766                     25.06859                      63.03   \n",
       "4     349902.577766                     25.06859                      63.03   \n",
       "\n",
       "   apartment_build  apartment_fund_sqm  \n",
       "0          22825.0       230615.059255  \n",
       "1          22825.0       230615.059255  \n",
       "2          22825.0       230615.059255  \n",
       "3          22825.0       230615.059255  \n",
       "4          22825.0       230615.059255  \n",
       "\n",
       "[5 rows x 100 columns]"
      ]
     },
     "execution_count": 20,
     "metadata": {},
     "output_type": "execute_result"
    }
   ],
   "source": [
    "macros.head()"
   ]
  },
  {
   "cell_type": "code",
   "execution_count": 21,
   "metadata": {},
   "outputs": [
    {
     "data": {
      "text/html": [
       "<div>\n",
       "<table border=\"1\" class=\"dataframe\">\n",
       "  <thead>\n",
       "    <tr style=\"text-align: right;\">\n",
       "      <th></th>\n",
       "      <th>column_name</th>\n",
       "      <th>missing_count</th>\n",
       "      <th>missing_rate</th>\n",
       "    </tr>\n",
       "  </thead>\n",
       "  <tbody>\n",
       "  </tbody>\n",
       "</table>\n",
       "</div>"
      ],
      "text/plain": [
       "Empty DataFrame\n",
       "Columns: [column_name, missing_count, missing_rate]\n",
       "Index: []"
      ]
     },
     "execution_count": 21,
     "metadata": {},
     "output_type": "execute_result"
    }
   ],
   "source": [
    "missing_df = macros.isnull().sum(axis=0).reset_index()\n",
    "missing_df.columns = ['column_name', 'missing_count']\n",
    "missing_df = missing_df[missing_df.missing_count > 0]\n",
    "missing_df = missing_df.sort_values(by='missing_count', ascending=False)\n",
    "total_count = macros.shape[0]\n",
    "missing_df['missing_rate'] = 1.0 * missing_df['missing_count'] / total_count\n",
    "missing_df.head()"
   ]
  },
  {
   "cell_type": "code",
   "execution_count": 22,
   "metadata": {},
   "outputs": [
    {
     "name": "stdout",
     "output_type": "stream",
     "text": [
      "['timestamp', 'child_on_acc_pre_school', 'modern_education_share', 'old_education_build_share']\n"
     ]
    }
   ],
   "source": [
    "num_columns = macros.select_dtypes(exclude=['object']).columns.values.tolist()\n",
    "str_columns = macros.select_dtypes(include=['object']).columns.values.tolist()\n",
    "\n",
    "print str_columns"
   ]
  },
  {
   "cell_type": "markdown",
   "metadata": {},
   "source": [
    "先处理类别属性"
   ]
  },
  {
   "cell_type": "code",
   "execution_count": 25,
   "metadata": {},
   "outputs": [
    {
     "data": {
      "text/plain": [
       "<matplotlib.axes._subplots.AxesSubplot at 0x7f07403cce50>"
      ]
     },
     "execution_count": 25,
     "metadata": {},
     "output_type": "execute_result"
    },
    {
     "data": {
      "image/png": "[encoded data removed]",
      "text/plain": [
       "<matplotlib.figure.Figure at 0x7f0740463890>"
      ]
     },
     "metadata": {},
     "output_type": "display_data"
    }
   ],
   "source": [
    "sns.countplot(macros.child_on_acc_pre_school)"
   ]
  },
  {
   "cell_type": "code",
   "execution_count": 26,
   "metadata": {},
   "outputs": [
    {
     "data": {
      "text/plain": [
       "<matplotlib.axes._subplots.AxesSubplot at 0x7f073ff93ad0>"
      ]
     },
     "execution_count": 26,
     "metadata": {},
     "output_type": "execute_result"
    },
    {
     "data": {
      "image/png": "[encoded data removed]",
      "text/plain": [
       "<matplotlib.figure.Figure at 0x7f073ffbb110>"
      ]
     },
     "metadata": {},
     "output_type": "display_data"
    }
   ],
   "source": [
    "sns.countplot(macros.modern_education_share)"
   ]
  },
  {
   "cell_type": "code",
   "execution_count": 27,
   "metadata": {},
   "outputs": [
    {
     "data": {
      "text/plain": [
       "<matplotlib.axes._subplots.AxesSubplot at 0x7f073fef1150>"
      ]
     },
     "execution_count": 27,
     "metadata": {},
     "output_type": "execute_result"
    },
    {
     "data": {
      "image/png": "[encoded data removed]",
      "text/plain": [
       "<matplotlib.figure.Figure at 0x7f07401cbdd0>"
      ]
     },
     "metadata": {},
     "output_type": "display_data"
    }
   ],
   "source": [
    "sns.countplot(macros.old_education_build_share)"
   ]
  },
  {
   "cell_type": "code",
   "execution_count": 53,
   "metadata": {
    "scrolled": true
   },
   "outputs": [
    {
     "data": {
      "text/plain": [
       "<matplotlib.axes._subplots.AxesSubplot at 0x7f073eabbfd0>"
      ]
     },
     "execution_count": 53,
     "metadata": {},
     "output_type": "execute_result"
    },
    {
     "data": {
      "image/png": "[encoded data removed]",
      "text/plain": [
       "<matplotlib.figure.Figure at 0x7f073ea5fb90>"
      ]
     },
     "metadata": {},
     "output_type": "display_data"
    }
   ],
   "source": [
    "sns.kdeplot(macros.mortgage_rate)"
   ]
  },
  {
   "cell_type": "code",
   "execution_count": null,
   "metadata": {
    "collapsed": true
   },
   "outputs": [],
   "source": [
    ""
   ]
  }
 ],
 "metadata": {
  "kernelspec": {
   "display_name": "Python 2",
   "language": "python",
   "name": "python2"
  },
  "language_info": {
   "codemirror_mode": {
    "name": "ipython",
    "version": 2.0
   },
   "file_extension": ".py",
   "mimetype": "text/x-python",
   "name": "python",
   "nbconvert_exporter": "python",
   "pygments_lexer": "ipython2",
   "version": "2.7.13"
  }
 },
 "nbformat": 4,
 "nbformat_minor": 0
}